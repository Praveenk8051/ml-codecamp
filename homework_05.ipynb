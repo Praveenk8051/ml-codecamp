{
 "cells": [
  {
   "cell_type": "code",
   "execution_count": null,
   "id": "alone-stretch",
   "metadata": {},
   "outputs": [],
   "source": [
    "!pip install --user pipenv"
   ]
  },
  {
   "cell_type": "markdown",
   "id": "fourth-michael",
   "metadata": {},
   "source": [
    "Question : 01"
   ]
  },
  {
   "cell_type": "code",
   "execution_count": 3,
   "id": "republican-truck",
   "metadata": {},
   "outputs": [
    {
     "name": "stdout",
     "output_type": "stream",
     "text": [
      "\u001b[39m\u001b[1mpipenv\u001b[39m\u001b[22m, version 2021.5.29\r\n",
      "\u001b[0m"
     ]
    }
   ],
   "source": [
    "!pipenv --version"
   ]
  },
  {
   "cell_type": "markdown",
   "id": "criminal-offense",
   "metadata": {},
   "source": [
    "Question 2"
   ]
  },
  {
   "cell_type": "markdown",
   "id": "elder-street",
   "metadata": {},
   "source": [
    "sha256:121f78d6564000dc5e968394f45aac87981fcaaf2be40cfcd8f07b2baa1e1829"
   ]
  },
  {
   "cell_type": "code",
   "execution_count": 6,
   "id": "intimate-closer",
   "metadata": {},
   "outputs": [],
   "source": [
    "PREFIX='https://raw.githubusercontent.com/alexeygrigorev/mlbookcamp-code/master/course-zoomcamp/05-deployment/homework'"
   ]
  },
  {
   "cell_type": "code",
   "execution_count": 8,
   "id": "urban-hawaiian",
   "metadata": {},
   "outputs": [
    {
     "name": "stdout",
     "output_type": "stream",
     "text": [
      "--2021-10-08 15:58:36--  https://raw.githubusercontent.com/alexeygrigorev/mlbookcamp-code/master/course-zoomcamp/05-deployment/homework/model1.bin\n",
      "Resolving raw.githubusercontent.com (raw.githubusercontent.com)... 185.199.109.133, 185.199.111.133, 185.199.108.133, ...\n",
      "Connecting to raw.githubusercontent.com (raw.githubusercontent.com)|185.199.109.133|:443... connected.\n",
      "HTTP request sent, awaiting response... 200 OK\n",
      "Length: 746 [application/octet-stream]\n",
      "Saving to: ‘model1.bin’\n",
      "\n",
      "model1.bin          100%[===================>]     746  --.-KB/s    in 0s      \n",
      "\n",
      "2021-10-08 15:58:37 (107 MB/s) - ‘model1.bin’ saved [746/746]\n",
      "\n",
      "--2021-10-08 15:58:37--  https://raw.githubusercontent.com/alexeygrigorev/mlbookcamp-code/master/course-zoomcamp/05-deployment/homework/dv.bin\n",
      "Resolving raw.githubusercontent.com (raw.githubusercontent.com)... 185.199.110.133, 185.199.108.133, 185.199.111.133, ...\n",
      "Connecting to raw.githubusercontent.com (raw.githubusercontent.com)|185.199.110.133|:443... connected.\n",
      "HTTP request sent, awaiting response... 200 OK\n",
      "Length: 323 [application/octet-stream]\n",
      "Saving to: ‘dv.bin’\n",
      "\n",
      "dv.bin              100%[===================>]     323  --.-KB/s    in 0s      \n",
      "\n",
      "2021-10-08 15:58:37 (40,4 MB/s) - ‘dv.bin’ saved [323/323]\n",
      "\n"
     ]
    }
   ],
   "source": [
    "! wget $PREFIX/model1.bin\n",
    "! wget $PREFIX/dv.bin"
   ]
  },
  {
   "cell_type": "markdown",
   "id": "swiss-child",
   "metadata": {},
   "source": [
    "Question 3"
   ]
  },
  {
   "cell_type": "code",
   "execution_count": 16,
   "id": "subjective-beach",
   "metadata": {},
   "outputs": [],
   "source": [
    "import requests\n",
    "import pickle"
   ]
  },
  {
   "cell_type": "code",
   "execution_count": 24,
   "id": "prepared-international",
   "metadata": {},
   "outputs": [],
   "source": [
    "url = 'http://localhost:9696/predict'"
   ]
  },
  {
   "cell_type": "code",
   "execution_count": 25,
   "id": "sufficient-constitution",
   "metadata": {},
   "outputs": [],
   "source": [
    "customer = {\"contract\": \"two_year\", \"tenure\": 12, \"monthlycharges\": 19.7}\n"
   ]
  },
  {
   "cell_type": "code",
   "execution_count": 29,
   "id": "reflected-transcript",
   "metadata": {},
   "outputs": [
    {
     "data": {
      "text/plain": [
       "{'churn': False, 'churn_probability': 0.11549580587832914}"
      ]
     },
     "execution_count": 29,
     "metadata": {},
     "output_type": "execute_result"
    }
   ],
   "source": [
    "response = requests.post(url, json=customer).json()\n",
    "response"
   ]
  },
  {
   "cell_type": "code",
   "execution_count": 30,
   "id": "spiritual-prescription",
   "metadata": {},
   "outputs": [],
   "source": [
    "customer = {\"contract\": \"two_year\", \"tenure\": 1, \"monthlycharges\": 10}\n"
   ]
  },
  {
   "cell_type": "code",
   "execution_count": 31,
   "id": "stunning-smoke",
   "metadata": {},
   "outputs": [
    {
     "data": {
      "text/plain": [
       "{'churn': True, 'churn_probability': 0.9988892771007961}"
      ]
     },
     "execution_count": 31,
     "metadata": {},
     "output_type": "execute_result"
    }
   ],
   "source": [
    "response = requests.post(url, json=customer).json()\n",
    "response"
   ]
  },
  {
   "cell_type": "markdown",
   "id": "upper-springer",
   "metadata": {},
   "source": [
    "Question 4"
   ]
  },
  {
   "cell_type": "markdown",
   "id": "experimental-compiler",
   "metadata": {},
   "source": [
    "bd897bb914af"
   ]
  },
  {
   "cell_type": "code",
   "execution_count": null,
   "id": "eleven-delaware",
   "metadata": {},
   "outputs": [],
   "source": []
  }
 ],
 "metadata": {
  "hide_input": false,
  "kernelspec": {
   "display_name": "Python 3",
   "language": "python",
   "name": "python3"
  },
  "language_info": {
   "codemirror_mode": {
    "name": "ipython",
    "version": 3
   },
   "file_extension": ".py",
   "mimetype": "text/x-python",
   "name": "python",
   "nbconvert_exporter": "python",
   "pygments_lexer": "ipython3",
   "version": "3.8.10"
  }
 },
 "nbformat": 4,
 "nbformat_minor": 5
}
