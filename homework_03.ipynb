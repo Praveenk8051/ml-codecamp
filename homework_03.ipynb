{
 "cells": [
  {
   "cell_type": "code",
   "execution_count": 3,
   "id": "brilliant-representative",
   "metadata": {},
   "outputs": [],
   "source": [
    "# !wget https://raw.githubusercontent.com/alexeygrigorev/datasets/master/AB_NYC_2019.csv"
   ]
  },
  {
   "cell_type": "code",
   "execution_count": 2,
   "id": "moral-capture",
   "metadata": {},
   "outputs": [],
   "source": [
    "import pandas as pd\n",
    "from sklearn.model_selection import train_test_split\n",
    "import numpy as np\n",
    "import seaborn as sns\n",
    "import matplotlib.pyplot as plt\n",
    "from sklearn.metrics import mutual_info_score\n",
    "from sklearn.feature_extraction import DictVectorizer\n",
    "from sklearn.linear_model import LogisticRegression\n",
    "from sklearn.linear_model import Ridge"
   ]
  },
  {
   "cell_type": "code",
   "execution_count": 3,
   "id": "tough-potato",
   "metadata": {},
   "outputs": [],
   "source": [
    "df = pd.read_csv('data/airbnb3.csv')"
   ]
  },
  {
   "cell_type": "code",
   "execution_count": 4,
   "id": "brief-christianity",
   "metadata": {},
   "outputs": [
    {
     "data": {
      "text/html": [
       "<div>\n",
       "<style scoped>\n",
       "    .dataframe tbody tr th:only-of-type {\n",
       "        vertical-align: middle;\n",
       "    }\n",
       "\n",
       "    .dataframe tbody tr th {\n",
       "        vertical-align: top;\n",
       "    }\n",
       "\n",
       "    .dataframe thead th {\n",
       "        text-align: right;\n",
       "    }\n",
       "</style>\n",
       "<table border=\"1\" class=\"dataframe\">\n",
       "  <thead>\n",
       "    <tr style=\"text-align: right;\">\n",
       "      <th></th>\n",
       "      <th>0</th>\n",
       "      <th>1</th>\n",
       "      <th>2</th>\n",
       "      <th>3</th>\n",
       "      <th>4</th>\n",
       "    </tr>\n",
       "  </thead>\n",
       "  <tbody>\n",
       "    <tr>\n",
       "      <th>id</th>\n",
       "      <td>2539</td>\n",
       "      <td>2595</td>\n",
       "      <td>3647</td>\n",
       "      <td>3831</td>\n",
       "      <td>5022</td>\n",
       "    </tr>\n",
       "    <tr>\n",
       "      <th>name</th>\n",
       "      <td>Clean &amp; quiet apt home by the park</td>\n",
       "      <td>Skylit Midtown Castle</td>\n",
       "      <td>THE VILLAGE OF HARLEM....NEW YORK !</td>\n",
       "      <td>Cozy Entire Floor of Brownstone</td>\n",
       "      <td>Entire Apt: Spacious Studio/Loft by central park</td>\n",
       "    </tr>\n",
       "    <tr>\n",
       "      <th>host_id</th>\n",
       "      <td>2787</td>\n",
       "      <td>2845</td>\n",
       "      <td>4632</td>\n",
       "      <td>4869</td>\n",
       "      <td>7192</td>\n",
       "    </tr>\n",
       "    <tr>\n",
       "      <th>host_name</th>\n",
       "      <td>John</td>\n",
       "      <td>Jennifer</td>\n",
       "      <td>Elisabeth</td>\n",
       "      <td>LisaRoxanne</td>\n",
       "      <td>Laura</td>\n",
       "    </tr>\n",
       "    <tr>\n",
       "      <th>neighbourhood_group</th>\n",
       "      <td>Brooklyn</td>\n",
       "      <td>Manhattan</td>\n",
       "      <td>Manhattan</td>\n",
       "      <td>Brooklyn</td>\n",
       "      <td>Manhattan</td>\n",
       "    </tr>\n",
       "    <tr>\n",
       "      <th>neighbourhood</th>\n",
       "      <td>Kensington</td>\n",
       "      <td>Midtown</td>\n",
       "      <td>Harlem</td>\n",
       "      <td>Clinton Hill</td>\n",
       "      <td>East Harlem</td>\n",
       "    </tr>\n",
       "    <tr>\n",
       "      <th>latitude</th>\n",
       "      <td>40.64749</td>\n",
       "      <td>40.75362</td>\n",
       "      <td>40.80902</td>\n",
       "      <td>40.68514</td>\n",
       "      <td>40.79851</td>\n",
       "    </tr>\n",
       "    <tr>\n",
       "      <th>longitude</th>\n",
       "      <td>-73.97237</td>\n",
       "      <td>-73.98377</td>\n",
       "      <td>-73.9419</td>\n",
       "      <td>-73.95976</td>\n",
       "      <td>-73.94399</td>\n",
       "    </tr>\n",
       "    <tr>\n",
       "      <th>room_type</th>\n",
       "      <td>Private room</td>\n",
       "      <td>Entire home/apt</td>\n",
       "      <td>Private room</td>\n",
       "      <td>Entire home/apt</td>\n",
       "      <td>Entire home/apt</td>\n",
       "    </tr>\n",
       "    <tr>\n",
       "      <th>price</th>\n",
       "      <td>149</td>\n",
       "      <td>225</td>\n",
       "      <td>150</td>\n",
       "      <td>89</td>\n",
       "      <td>80</td>\n",
       "    </tr>\n",
       "    <tr>\n",
       "      <th>minimum_nights</th>\n",
       "      <td>1</td>\n",
       "      <td>1</td>\n",
       "      <td>3</td>\n",
       "      <td>1</td>\n",
       "      <td>10</td>\n",
       "    </tr>\n",
       "    <tr>\n",
       "      <th>number_of_reviews</th>\n",
       "      <td>9</td>\n",
       "      <td>45</td>\n",
       "      <td>0</td>\n",
       "      <td>270</td>\n",
       "      <td>9</td>\n",
       "    </tr>\n",
       "    <tr>\n",
       "      <th>last_review</th>\n",
       "      <td>2018-10-19</td>\n",
       "      <td>2019-05-21</td>\n",
       "      <td>NaN</td>\n",
       "      <td>2019-07-05</td>\n",
       "      <td>2018-11-19</td>\n",
       "    </tr>\n",
       "    <tr>\n",
       "      <th>reviews_per_month</th>\n",
       "      <td>0.21</td>\n",
       "      <td>0.38</td>\n",
       "      <td>NaN</td>\n",
       "      <td>4.64</td>\n",
       "      <td>0.1</td>\n",
       "    </tr>\n",
       "    <tr>\n",
       "      <th>calculated_host_listings_count</th>\n",
       "      <td>6</td>\n",
       "      <td>2</td>\n",
       "      <td>1</td>\n",
       "      <td>1</td>\n",
       "      <td>1</td>\n",
       "    </tr>\n",
       "    <tr>\n",
       "      <th>availability_365</th>\n",
       "      <td>365</td>\n",
       "      <td>355</td>\n",
       "      <td>365</td>\n",
       "      <td>194</td>\n",
       "      <td>0</td>\n",
       "    </tr>\n",
       "  </tbody>\n",
       "</table>\n",
       "</div>"
      ],
      "text/plain": [
       "                                                                 0  \\\n",
       "id                                                            2539   \n",
       "name                            Clean & quiet apt home by the park   \n",
       "host_id                                                       2787   \n",
       "host_name                                                     John   \n",
       "neighbourhood_group                                       Brooklyn   \n",
       "neighbourhood                                           Kensington   \n",
       "latitude                                                  40.64749   \n",
       "longitude                                                -73.97237   \n",
       "room_type                                             Private room   \n",
       "price                                                          149   \n",
       "minimum_nights                                                   1   \n",
       "number_of_reviews                                                9   \n",
       "last_review                                             2018-10-19   \n",
       "reviews_per_month                                             0.21   \n",
       "calculated_host_listings_count                                   6   \n",
       "availability_365                                               365   \n",
       "\n",
       "                                                    1  \\\n",
       "id                                               2595   \n",
       "name                            Skylit Midtown Castle   \n",
       "host_id                                          2845   \n",
       "host_name                                    Jennifer   \n",
       "neighbourhood_group                         Manhattan   \n",
       "neighbourhood                                 Midtown   \n",
       "latitude                                     40.75362   \n",
       "longitude                                   -73.98377   \n",
       "room_type                             Entire home/apt   \n",
       "price                                             225   \n",
       "minimum_nights                                      1   \n",
       "number_of_reviews                                  45   \n",
       "last_review                                2019-05-21   \n",
       "reviews_per_month                                0.38   \n",
       "calculated_host_listings_count                      2   \n",
       "availability_365                                  355   \n",
       "\n",
       "                                                                  2  \\\n",
       "id                                                             3647   \n",
       "name                            THE VILLAGE OF HARLEM....NEW YORK !   \n",
       "host_id                                                        4632   \n",
       "host_name                                                 Elisabeth   \n",
       "neighbourhood_group                                       Manhattan   \n",
       "neighbourhood                                                Harlem   \n",
       "latitude                                                   40.80902   \n",
       "longitude                                                  -73.9419   \n",
       "room_type                                              Private room   \n",
       "price                                                           150   \n",
       "minimum_nights                                                    3   \n",
       "number_of_reviews                                                 0   \n",
       "last_review                                                     NaN   \n",
       "reviews_per_month                                               NaN   \n",
       "calculated_host_listings_count                                    1   \n",
       "availability_365                                                365   \n",
       "\n",
       "                                                              3  \\\n",
       "id                                                         3831   \n",
       "name                            Cozy Entire Floor of Brownstone   \n",
       "host_id                                                    4869   \n",
       "host_name                                           LisaRoxanne   \n",
       "neighbourhood_group                                    Brooklyn   \n",
       "neighbourhood                                      Clinton Hill   \n",
       "latitude                                               40.68514   \n",
       "longitude                                             -73.95976   \n",
       "room_type                                       Entire home/apt   \n",
       "price                                                        89   \n",
       "minimum_nights                                                1   \n",
       "number_of_reviews                                           270   \n",
       "last_review                                          2019-07-05   \n",
       "reviews_per_month                                          4.64   \n",
       "calculated_host_listings_count                                1   \n",
       "availability_365                                            194   \n",
       "\n",
       "                                                                               4  \n",
       "id                                                                          5022  \n",
       "name                            Entire Apt: Spacious Studio/Loft by central park  \n",
       "host_id                                                                     7192  \n",
       "host_name                                                                  Laura  \n",
       "neighbourhood_group                                                    Manhattan  \n",
       "neighbourhood                                                        East Harlem  \n",
       "latitude                                                                40.79851  \n",
       "longitude                                                              -73.94399  \n",
       "room_type                                                        Entire home/apt  \n",
       "price                                                                         80  \n",
       "minimum_nights                                                                10  \n",
       "number_of_reviews                                                              9  \n",
       "last_review                                                           2018-11-19  \n",
       "reviews_per_month                                                            0.1  \n",
       "calculated_host_listings_count                                                 1  \n",
       "availability_365                                                               0  "
      ]
     },
     "execution_count": 4,
     "metadata": {},
     "output_type": "execute_result"
    }
   ],
   "source": [
    "df.head().T"
   ]
  },
  {
   "cell_type": "code",
   "execution_count": 5,
   "id": "sharing-attribute",
   "metadata": {},
   "outputs": [
    {
     "data": {
      "text/plain": [
       "id                                  int64\n",
       "name                               object\n",
       "host_id                             int64\n",
       "host_name                          object\n",
       "neighbourhood_group                object\n",
       "neighbourhood                      object\n",
       "latitude                          float64\n",
       "longitude                         float64\n",
       "room_type                          object\n",
       "price                               int64\n",
       "minimum_nights                      int64\n",
       "number_of_reviews                   int64\n",
       "last_review                        object\n",
       "reviews_per_month                 float64\n",
       "calculated_host_listings_count      int64\n",
       "availability_365                    int64\n",
       "dtype: object"
      ]
     },
     "execution_count": 5,
     "metadata": {},
     "output_type": "execute_result"
    }
   ],
   "source": [
    "df.dtypes"
   ]
  },
  {
   "cell_type": "code",
   "execution_count": 6,
   "id": "liable-abraham",
   "metadata": {},
   "outputs": [],
   "source": [
    "df = df[['neighbourhood_group','room_type','latitude','longitude','price',\n",
    " 'minimum_nights','number_of_reviews','reviews_per_month','calculated_host_listings_count',\n",
    " 'availability_365']]"
   ]
  },
  {
   "cell_type": "code",
   "execution_count": 7,
   "id": "sixth-programmer",
   "metadata": {},
   "outputs": [],
   "source": [
    "df.fillna(0,inplace=True)"
   ]
  },
  {
   "cell_type": "code",
   "execution_count": 8,
   "id": "color-license",
   "metadata": {},
   "outputs": [
    {
     "data": {
      "text/html": [
       "<div>\n",
       "<style scoped>\n",
       "    .dataframe tbody tr th:only-of-type {\n",
       "        vertical-align: middle;\n",
       "    }\n",
       "\n",
       "    .dataframe tbody tr th {\n",
       "        vertical-align: top;\n",
       "    }\n",
       "\n",
       "    .dataframe thead th {\n",
       "        text-align: right;\n",
       "    }\n",
       "</style>\n",
       "<table border=\"1\" class=\"dataframe\">\n",
       "  <thead>\n",
       "    <tr style=\"text-align: right;\">\n",
       "      <th></th>\n",
       "      <th>neighbourhood_group</th>\n",
       "      <th>room_type</th>\n",
       "      <th>latitude</th>\n",
       "      <th>longitude</th>\n",
       "      <th>price</th>\n",
       "      <th>minimum_nights</th>\n",
       "      <th>number_of_reviews</th>\n",
       "      <th>reviews_per_month</th>\n",
       "      <th>calculated_host_listings_count</th>\n",
       "      <th>availability_365</th>\n",
       "    </tr>\n",
       "  </thead>\n",
       "  <tbody>\n",
       "    <tr>\n",
       "      <th>0</th>\n",
       "      <td>Brooklyn</td>\n",
       "      <td>Private room</td>\n",
       "      <td>40.64749</td>\n",
       "      <td>-73.97237</td>\n",
       "      <td>149</td>\n",
       "      <td>1</td>\n",
       "      <td>9</td>\n",
       "      <td>0.21</td>\n",
       "      <td>6</td>\n",
       "      <td>365</td>\n",
       "    </tr>\n",
       "    <tr>\n",
       "      <th>1</th>\n",
       "      <td>Manhattan</td>\n",
       "      <td>Entire home/apt</td>\n",
       "      <td>40.75362</td>\n",
       "      <td>-73.98377</td>\n",
       "      <td>225</td>\n",
       "      <td>1</td>\n",
       "      <td>45</td>\n",
       "      <td>0.38</td>\n",
       "      <td>2</td>\n",
       "      <td>355</td>\n",
       "    </tr>\n",
       "    <tr>\n",
       "      <th>2</th>\n",
       "      <td>Manhattan</td>\n",
       "      <td>Private room</td>\n",
       "      <td>40.80902</td>\n",
       "      <td>-73.94190</td>\n",
       "      <td>150</td>\n",
       "      <td>3</td>\n",
       "      <td>0</td>\n",
       "      <td>0.00</td>\n",
       "      <td>1</td>\n",
       "      <td>365</td>\n",
       "    </tr>\n",
       "    <tr>\n",
       "      <th>3</th>\n",
       "      <td>Brooklyn</td>\n",
       "      <td>Entire home/apt</td>\n",
       "      <td>40.68514</td>\n",
       "      <td>-73.95976</td>\n",
       "      <td>89</td>\n",
       "      <td>1</td>\n",
       "      <td>270</td>\n",
       "      <td>4.64</td>\n",
       "      <td>1</td>\n",
       "      <td>194</td>\n",
       "    </tr>\n",
       "    <tr>\n",
       "      <th>4</th>\n",
       "      <td>Manhattan</td>\n",
       "      <td>Entire home/apt</td>\n",
       "      <td>40.79851</td>\n",
       "      <td>-73.94399</td>\n",
       "      <td>80</td>\n",
       "      <td>10</td>\n",
       "      <td>9</td>\n",
       "      <td>0.10</td>\n",
       "      <td>1</td>\n",
       "      <td>0</td>\n",
       "    </tr>\n",
       "  </tbody>\n",
       "</table>\n",
       "</div>"
      ],
      "text/plain": [
       "  neighbourhood_group        room_type  latitude  longitude  price  \\\n",
       "0            Brooklyn     Private room  40.64749  -73.97237    149   \n",
       "1           Manhattan  Entire home/apt  40.75362  -73.98377    225   \n",
       "2           Manhattan     Private room  40.80902  -73.94190    150   \n",
       "3            Brooklyn  Entire home/apt  40.68514  -73.95976     89   \n",
       "4           Manhattan  Entire home/apt  40.79851  -73.94399     80   \n",
       "\n",
       "   minimum_nights  number_of_reviews  reviews_per_month  \\\n",
       "0               1                  9               0.21   \n",
       "1               1                 45               0.38   \n",
       "2               3                  0               0.00   \n",
       "3               1                270               4.64   \n",
       "4              10                  9               0.10   \n",
       "\n",
       "   calculated_host_listings_count  availability_365  \n",
       "0                               6               365  \n",
       "1                               2               355  \n",
       "2                               1               365  \n",
       "3                               1               194  \n",
       "4                               1                 0  "
      ]
     },
     "execution_count": 8,
     "metadata": {},
     "output_type": "execute_result"
    }
   ],
   "source": [
    "df.head()"
   ]
  },
  {
   "cell_type": "markdown",
   "id": "suffering-hello",
   "metadata": {},
   "source": [
    "### Ques : 01 \n",
    "\n",
    "* What is the most frequent observation (mode) for the column 'neighbourhood_group'?\n",
    "\n"
   ]
  },
  {
   "cell_type": "code",
   "execution_count": 9,
   "id": "crucial-butler",
   "metadata": {},
   "outputs": [
    {
     "data": {
      "text/plain": [
       "0    Manhattan\n",
       "dtype: object"
      ]
     },
     "execution_count": 9,
     "metadata": {},
     "output_type": "execute_result"
    }
   ],
   "source": [
    "df['neighbourhood_group'].mode()"
   ]
  },
  {
   "cell_type": "markdown",
   "id": "direct-subdivision",
   "metadata": {},
   "source": [
    "* Split the data"
   ]
  },
  {
   "cell_type": "code",
   "execution_count": 10,
   "id": "greek-utility",
   "metadata": {},
   "outputs": [],
   "source": [
    "y = df['price'].values\n",
    "X = df\n",
    "del X['price']\n"
   ]
  },
  {
   "cell_type": "code",
   "execution_count": 11,
   "id": "played-license",
   "metadata": {},
   "outputs": [
    {
     "data": {
      "text/plain": [
       "Index(['neighbourhood_group', 'room_type', 'latitude', 'longitude',\n",
       "       'minimum_nights', 'number_of_reviews', 'reviews_per_month',\n",
       "       'calculated_host_listings_count', 'availability_365'],\n",
       "      dtype='object')"
      ]
     },
     "execution_count": 11,
     "metadata": {},
     "output_type": "execute_result"
    }
   ],
   "source": [
    "X.columns"
   ]
  },
  {
   "cell_type": "code",
   "execution_count": null,
   "id": "bearing-northeast",
   "metadata": {},
   "outputs": [],
   "source": []
  },
  {
   "cell_type": "code",
   "execution_count": 12,
   "id": "tough-davis",
   "metadata": {},
   "outputs": [],
   "source": [
    "X_train, X_test, y_train, y_test = train_test_split(X.values, y, test_size=0.2, random_state=42)\n",
    "\n",
    "X_train, X_val, y_train, y_val = train_test_split(X_train, y_train, test_size=0.2, random_state=42)"
   ]
  },
  {
   "cell_type": "code",
   "execution_count": 13,
   "id": "planned-differential",
   "metadata": {},
   "outputs": [
    {
     "data": {
      "text/plain": [
       "(31292, 9779, 7824)"
      ]
     },
     "execution_count": 13,
     "metadata": {},
     "output_type": "execute_result"
    }
   ],
   "source": [
    "len(X_train), len(X_test), len(X_val)"
   ]
  },
  {
   "cell_type": "code",
   "execution_count": 14,
   "id": "jewish-steps",
   "metadata": {},
   "outputs": [
    {
     "data": {
      "text/plain": [
       "(31292, 9779, 7824)"
      ]
     },
     "execution_count": 14,
     "metadata": {},
     "output_type": "execute_result"
    }
   ],
   "source": [
    "len(y_train), len(y_test), len(y_val)"
   ]
  },
  {
   "cell_type": "code",
   "execution_count": 15,
   "id": "twenty-bones",
   "metadata": {},
   "outputs": [],
   "source": [
    "numerical = ['minimum_nights', 'number_of_reviews', 'reviews_per_month',\n",
    "       'calculated_host_listings_count', 'availability_365']\n",
    "\n",
    "categorical=['neighbourhood_group', 'room_type']"
   ]
  },
  {
   "cell_type": "code",
   "execution_count": 16,
   "id": "angry-convert",
   "metadata": {},
   "outputs": [],
   "source": [
    "X_train_df = pd.DataFrame(X_train, columns=['neighbourhood_group', 'room_type', 'latitude', 'longitude',\n",
    "       'minimum_nights', 'number_of_reviews', 'reviews_per_month',\n",
    "       'calculated_host_listings_count', 'availability_365'])"
   ]
  },
  {
   "cell_type": "code",
   "execution_count": 17,
   "id": "municipal-conducting",
   "metadata": {},
   "outputs": [
    {
     "data": {
      "text/html": [
       "<div>\n",
       "<style scoped>\n",
       "    .dataframe tbody tr th:only-of-type {\n",
       "        vertical-align: middle;\n",
       "    }\n",
       "\n",
       "    .dataframe tbody tr th {\n",
       "        vertical-align: top;\n",
       "    }\n",
       "\n",
       "    .dataframe thead th {\n",
       "        text-align: right;\n",
       "    }\n",
       "</style>\n",
       "<table border=\"1\" class=\"dataframe\">\n",
       "  <thead>\n",
       "    <tr style=\"text-align: right;\">\n",
       "      <th></th>\n",
       "      <th>neighbourhood_group</th>\n",
       "      <th>room_type</th>\n",
       "      <th>latitude</th>\n",
       "      <th>longitude</th>\n",
       "      <th>minimum_nights</th>\n",
       "      <th>number_of_reviews</th>\n",
       "      <th>reviews_per_month</th>\n",
       "      <th>calculated_host_listings_count</th>\n",
       "      <th>availability_365</th>\n",
       "    </tr>\n",
       "  </thead>\n",
       "  <tbody>\n",
       "    <tr>\n",
       "      <th>0</th>\n",
       "      <td>Brooklyn</td>\n",
       "      <td>Entire home/apt</td>\n",
       "      <td>40.71754</td>\n",
       "      <td>-73.95906</td>\n",
       "      <td>2</td>\n",
       "      <td>15</td>\n",
       "      <td>1.14</td>\n",
       "      <td>1</td>\n",
       "      <td>0</td>\n",
       "    </tr>\n",
       "    <tr>\n",
       "      <th>1</th>\n",
       "      <td>Manhattan</td>\n",
       "      <td>Entire home/apt</td>\n",
       "      <td>40.78784</td>\n",
       "      <td>-73.94998</td>\n",
       "      <td>5</td>\n",
       "      <td>88</td>\n",
       "      <td>2.23</td>\n",
       "      <td>1</td>\n",
       "      <td>326</td>\n",
       "    </tr>\n",
       "    <tr>\n",
       "      <th>2</th>\n",
       "      <td>Manhattan</td>\n",
       "      <td>Entire home/apt</td>\n",
       "      <td>40.7358</td>\n",
       "      <td>-73.9889</td>\n",
       "      <td>1</td>\n",
       "      <td>68</td>\n",
       "      <td>2.67</td>\n",
       "      <td>1</td>\n",
       "      <td>324</td>\n",
       "    </tr>\n",
       "    <tr>\n",
       "      <th>3</th>\n",
       "      <td>Brooklyn</td>\n",
       "      <td>Private room</td>\n",
       "      <td>40.70921</td>\n",
       "      <td>-73.94144</td>\n",
       "      <td>1</td>\n",
       "      <td>2</td>\n",
       "      <td>0.07</td>\n",
       "      <td>1</td>\n",
       "      <td>0</td>\n",
       "    </tr>\n",
       "    <tr>\n",
       "      <th>4</th>\n",
       "      <td>Manhattan</td>\n",
       "      <td>Entire home/apt</td>\n",
       "      <td>40.7241</td>\n",
       "      <td>-73.98959</td>\n",
       "      <td>7</td>\n",
       "      <td>9</td>\n",
       "      <td>0.35</td>\n",
       "      <td>1</td>\n",
       "      <td>0</td>\n",
       "    </tr>\n",
       "  </tbody>\n",
       "</table>\n",
       "</div>"
      ],
      "text/plain": [
       "  neighbourhood_group        room_type  latitude longitude minimum_nights  \\\n",
       "0            Brooklyn  Entire home/apt  40.71754 -73.95906              2   \n",
       "1           Manhattan  Entire home/apt  40.78784 -73.94998              5   \n",
       "2           Manhattan  Entire home/apt   40.7358  -73.9889              1   \n",
       "3            Brooklyn     Private room  40.70921 -73.94144              1   \n",
       "4           Manhattan  Entire home/apt   40.7241 -73.98959              7   \n",
       "\n",
       "  number_of_reviews reviews_per_month calculated_host_listings_count  \\\n",
       "0                15              1.14                              1   \n",
       "1                88              2.23                              1   \n",
       "2                68              2.67                              1   \n",
       "3                 2              0.07                              1   \n",
       "4                 9              0.35                              1   \n",
       "\n",
       "  availability_365  \n",
       "0                0  \n",
       "1              326  \n",
       "2              324  \n",
       "3                0  \n",
       "4                0  "
      ]
     },
     "execution_count": 17,
     "metadata": {},
     "output_type": "execute_result"
    }
   ],
   "source": [
    "X_train_df.head()"
   ]
  },
  {
   "cell_type": "code",
   "execution_count": 18,
   "id": "realistic-resistance",
   "metadata": {},
   "outputs": [],
   "source": [
    "df_new_numerical=X_train_df[['minimum_nights', 'number_of_reviews', 'reviews_per_month',\n",
    "       'calculated_host_listings_count', 'availability_365']]"
   ]
  },
  {
   "cell_type": "code",
   "execution_count": 19,
   "id": "strange-investment",
   "metadata": {},
   "outputs": [
    {
     "name": "stderr",
     "output_type": "stream",
     "text": [
      "/home/praveen/.local/lib/python3.8/site-packages/pandas/core/frame.py:3636: SettingWithCopyWarning: \n",
      "A value is trying to be set on a copy of a slice from a DataFrame.\n",
      "Try using .loc[row_indexer,col_indexer] = value instead\n",
      "\n",
      "See the caveats in the documentation: https://pandas.pydata.org/pandas-docs/stable/user_guide/indexing.html#returning-a-view-versus-a-copy\n",
      "  self[k1] = value[k2]\n"
     ]
    }
   ],
   "source": [
    "cols=df_new_numerical.columns\n",
    "df_new_numerical[cols] = pd.to_numeric(df_new_numerical[cols].stack(), errors='coerce').unstack()\n"
   ]
  },
  {
   "cell_type": "markdown",
   "id": "swiss-warren",
   "metadata": {},
   "source": [
    "### Correlation Matrix\n",
    "Quest : 03"
   ]
  },
  {
   "cell_type": "code",
   "execution_count": 20,
   "id": "binding-packet",
   "metadata": {},
   "outputs": [
    {
     "data": {
      "text/html": [
       "<div>\n",
       "<style scoped>\n",
       "    .dataframe tbody tr th:only-of-type {\n",
       "        vertical-align: middle;\n",
       "    }\n",
       "\n",
       "    .dataframe tbody tr th {\n",
       "        vertical-align: top;\n",
       "    }\n",
       "\n",
       "    .dataframe thead th {\n",
       "        text-align: right;\n",
       "    }\n",
       "</style>\n",
       "<table border=\"1\" class=\"dataframe\">\n",
       "  <thead>\n",
       "    <tr style=\"text-align: right;\">\n",
       "      <th></th>\n",
       "      <th>minimum_nights</th>\n",
       "      <th>number_of_reviews</th>\n",
       "      <th>reviews_per_month</th>\n",
       "      <th>calculated_host_listings_count</th>\n",
       "      <th>availability_365</th>\n",
       "    </tr>\n",
       "  </thead>\n",
       "  <tbody>\n",
       "    <tr>\n",
       "      <th>minimum_nights</th>\n",
       "      <td>1.000000</td>\n",
       "      <td>-0.074459</td>\n",
       "      <td>-0.118436</td>\n",
       "      <td>0.114218</td>\n",
       "      <td>0.136383</td>\n",
       "    </tr>\n",
       "    <tr>\n",
       "      <th>number_of_reviews</th>\n",
       "      <td>-0.074459</td>\n",
       "      <td>1.000000</td>\n",
       "      <td>0.591234</td>\n",
       "      <td>-0.072782</td>\n",
       "      <td>0.174931</td>\n",
       "    </tr>\n",
       "    <tr>\n",
       "      <th>reviews_per_month</th>\n",
       "      <td>-0.118436</td>\n",
       "      <td>0.591234</td>\n",
       "      <td>1.000000</td>\n",
       "      <td>-0.047711</td>\n",
       "      <td>0.166007</td>\n",
       "    </tr>\n",
       "    <tr>\n",
       "      <th>calculated_host_listings_count</th>\n",
       "      <td>0.114218</td>\n",
       "      <td>-0.072782</td>\n",
       "      <td>-0.047711</td>\n",
       "      <td>1.000000</td>\n",
       "      <td>0.226329</td>\n",
       "    </tr>\n",
       "    <tr>\n",
       "      <th>availability_365</th>\n",
       "      <td>0.136383</td>\n",
       "      <td>0.174931</td>\n",
       "      <td>0.166007</td>\n",
       "      <td>0.226329</td>\n",
       "      <td>1.000000</td>\n",
       "    </tr>\n",
       "  </tbody>\n",
       "</table>\n",
       "</div>"
      ],
      "text/plain": [
       "                                minimum_nights  number_of_reviews  \\\n",
       "minimum_nights                        1.000000          -0.074459   \n",
       "number_of_reviews                    -0.074459           1.000000   \n",
       "reviews_per_month                    -0.118436           0.591234   \n",
       "calculated_host_listings_count        0.114218          -0.072782   \n",
       "availability_365                      0.136383           0.174931   \n",
       "\n",
       "                                reviews_per_month  \\\n",
       "minimum_nights                          -0.118436   \n",
       "number_of_reviews                        0.591234   \n",
       "reviews_per_month                        1.000000   \n",
       "calculated_host_listings_count          -0.047711   \n",
       "availability_365                         0.166007   \n",
       "\n",
       "                                calculated_host_listings_count  \\\n",
       "minimum_nights                                        0.114218   \n",
       "number_of_reviews                                    -0.072782   \n",
       "reviews_per_month                                    -0.047711   \n",
       "calculated_host_listings_count                        1.000000   \n",
       "availability_365                                      0.226329   \n",
       "\n",
       "                                availability_365  \n",
       "minimum_nights                          0.136383  \n",
       "number_of_reviews                       0.174931  \n",
       "reviews_per_month                       0.166007  \n",
       "calculated_host_listings_count          0.226329  \n",
       "availability_365                        1.000000  "
      ]
     },
     "execution_count": 20,
     "metadata": {},
     "output_type": "execute_result"
    }
   ],
   "source": [
    "df_new_numerical.corr(method ='pearson')"
   ]
  },
  {
   "cell_type": "code",
   "execution_count": 21,
   "id": "specific-hygiene",
   "metadata": {},
   "outputs": [],
   "source": [
    "y_above_average_train=np.where((y_train>=152),1, 0)"
   ]
  },
  {
   "cell_type": "code",
   "execution_count": 22,
   "id": "comprehensive-superintendent",
   "metadata": {},
   "outputs": [],
   "source": [
    "y_above_average_val=np.where((y_val>=152),1, 0)"
   ]
  },
  {
   "cell_type": "markdown",
   "id": "ordinary-trial",
   "metadata": {},
   "source": [
    "### Mutual Information"
   ]
  },
  {
   "cell_type": "code",
   "execution_count": 25,
   "id": "entertaining-enterprise",
   "metadata": {},
   "outputs": [
    {
     "data": {
      "text/plain": [
       "0.05"
      ]
     },
     "execution_count": 25,
     "metadata": {},
     "output_type": "execute_result"
    }
   ],
   "source": [
    "round(mutual_info_score(X_train_df.neighbourhood_group, y_above_average_train), 2)"
   ]
  },
  {
   "cell_type": "code",
   "execution_count": 26,
   "id": "advanced-thong",
   "metadata": {},
   "outputs": [
    {
     "data": {
      "text/plain": [
       "0.14"
      ]
     },
     "execution_count": 26,
     "metadata": {},
     "output_type": "execute_result"
    }
   ],
   "source": [
    "round(mutual_info_score(X_train_df.room_type, y_above_average_train),2)"
   ]
  },
  {
   "cell_type": "code",
   "execution_count": null,
   "id": "contemporary-atlantic",
   "metadata": {},
   "outputs": [],
   "source": []
  },
  {
   "cell_type": "code",
   "execution_count": 27,
   "id": "cognitive-orleans",
   "metadata": {},
   "outputs": [],
   "source": [
    "train_dicts = X_train_df.to_dict(orient='records')\n",
    "X_train_dicts = DictVectorizer(sparse=False).fit_transform(train_dicts)\n"
   ]
  },
  {
   "cell_type": "code",
   "execution_count": 28,
   "id": "wrong-diploma",
   "metadata": {},
   "outputs": [],
   "source": [
    "val_df=pd.DataFrame(X_val, columns=['neighbourhood_group', 'room_type', 'latitude', 'longitude',\n",
    "       'minimum_nights', 'number_of_reviews', 'reviews_per_month',\n",
    "       'calculated_host_listings_count', 'availability_365'])\n",
    "\n",
    "val_dicts = val_df.to_dict(orient='records')\n",
    "val_dicts = DictVectorizer(sparse=False).fit_transform(val_dicts)\n"
   ]
  },
  {
   "cell_type": "code",
   "execution_count": null,
   "id": "cleared-salem",
   "metadata": {},
   "outputs": [],
   "source": []
  },
  {
   "cell_type": "code",
   "execution_count": 29,
   "id": "wired-sigma",
   "metadata": {},
   "outputs": [
    {
     "name": "stderr",
     "output_type": "stream",
     "text": [
      "/home/praveen/.local/lib/python3.8/site-packages/sklearn/linear_model/_logistic.py:762: ConvergenceWarning: lbfgs failed to converge (status=1):\n",
      "STOP: TOTAL NO. of ITERATIONS REACHED LIMIT.\n",
      "\n",
      "Increase the number of iterations (max_iter) or scale the data as shown in:\n",
      "    https://scikit-learn.org/stable/modules/preprocessing.html\n",
      "Please also refer to the documentation for alternative solver options:\n",
      "    https://scikit-learn.org/stable/modules/linear_model.html#logistic-regression\n",
      "  n_iter_i = _check_optimize_result(\n"
     ]
    },
    {
     "data": {
      "text/plain": [
       "LogisticRegression(random_state=42)"
      ]
     },
     "execution_count": 29,
     "metadata": {},
     "output_type": "execute_result"
    }
   ],
   "source": [
    "model = LogisticRegression(solver='lbfgs', C=1.0, random_state=42)\n",
    "model.fit(X_train_dicts, y_above_average_train)"
   ]
  },
  {
   "cell_type": "code",
   "execution_count": 30,
   "id": "joined-bidding",
   "metadata": {},
   "outputs": [
    {
     "data": {
      "text/html": [
       "<div>\n",
       "<style scoped>\n",
       "    .dataframe tbody tr th:only-of-type {\n",
       "        vertical-align: middle;\n",
       "    }\n",
       "\n",
       "    .dataframe tbody tr th {\n",
       "        vertical-align: top;\n",
       "    }\n",
       "\n",
       "    .dataframe thead th {\n",
       "        text-align: right;\n",
       "    }\n",
       "</style>\n",
       "<table border=\"1\" class=\"dataframe\">\n",
       "  <thead>\n",
       "    <tr style=\"text-align: right;\">\n",
       "      <th></th>\n",
       "      <th>neighbourhood_group</th>\n",
       "      <th>room_type</th>\n",
       "      <th>latitude</th>\n",
       "      <th>longitude</th>\n",
       "      <th>minimum_nights</th>\n",
       "      <th>number_of_reviews</th>\n",
       "      <th>reviews_per_month</th>\n",
       "      <th>calculated_host_listings_count</th>\n",
       "      <th>availability_365</th>\n",
       "    </tr>\n",
       "  </thead>\n",
       "  <tbody>\n",
       "    <tr>\n",
       "      <th>1</th>\n",
       "      <td>Brooklyn</td>\n",
       "      <td>Entire home/apt</td>\n",
       "      <td>40.68498</td>\n",
       "      <td>-73.96618</td>\n",
       "      <td>14</td>\n",
       "      <td>4</td>\n",
       "      <td>0.11</td>\n",
       "      <td>2</td>\n",
       "      <td>343</td>\n",
       "    </tr>\n",
       "    <tr>\n",
       "      <th>4</th>\n",
       "      <td>Manhattan</td>\n",
       "      <td>Entire home/apt</td>\n",
       "      <td>40.76075</td>\n",
       "      <td>-73.99893</td>\n",
       "      <td>30</td>\n",
       "      <td>0</td>\n",
       "      <td>0.0</td>\n",
       "      <td>18</td>\n",
       "      <td>365</td>\n",
       "    </tr>\n",
       "    <tr>\n",
       "      <th>6</th>\n",
       "      <td>Manhattan</td>\n",
       "      <td>Entire home/apt</td>\n",
       "      <td>40.73243</td>\n",
       "      <td>-74.00932</td>\n",
       "      <td>4</td>\n",
       "      <td>1</td>\n",
       "      <td>0.03</td>\n",
       "      <td>1</td>\n",
       "      <td>0</td>\n",
       "    </tr>\n",
       "    <tr>\n",
       "      <th>7</th>\n",
       "      <td>Manhattan</td>\n",
       "      <td>Entire home/apt</td>\n",
       "      <td>40.8063</td>\n",
       "      <td>-73.96268</td>\n",
       "      <td>7</td>\n",
       "      <td>2</td>\n",
       "      <td>0.05</td>\n",
       "      <td>1</td>\n",
       "      <td>0</td>\n",
       "    </tr>\n",
       "    <tr>\n",
       "      <th>9</th>\n",
       "      <td>Manhattan</td>\n",
       "      <td>Entire home/apt</td>\n",
       "      <td>40.80861</td>\n",
       "      <td>-73.94574</td>\n",
       "      <td>3</td>\n",
       "      <td>123</td>\n",
       "      <td>1.73</td>\n",
       "      <td>3</td>\n",
       "      <td>248</td>\n",
       "    </tr>\n",
       "  </tbody>\n",
       "</table>\n",
       "</div>"
      ],
      "text/plain": [
       "  neighbourhood_group        room_type  latitude longitude minimum_nights  \\\n",
       "1            Brooklyn  Entire home/apt  40.68498 -73.96618             14   \n",
       "4           Manhattan  Entire home/apt  40.76075 -73.99893             30   \n",
       "6           Manhattan  Entire home/apt  40.73243 -74.00932              4   \n",
       "7           Manhattan  Entire home/apt   40.8063 -73.96268              7   \n",
       "9           Manhattan  Entire home/apt  40.80861 -73.94574              3   \n",
       "\n",
       "  number_of_reviews reviews_per_month calculated_host_listings_count  \\\n",
       "1                 4              0.11                              2   \n",
       "4                 0               0.0                             18   \n",
       "6                 1              0.03                              1   \n",
       "7                 2              0.05                              1   \n",
       "9               123              1.73                              3   \n",
       "\n",
       "  availability_365  \n",
       "1              343  \n",
       "4              365  \n",
       "6                0  \n",
       "7                0  \n",
       "9              248  "
      ]
     },
     "execution_count": 30,
     "metadata": {},
     "output_type": "execute_result"
    }
   ],
   "source": [
    "y_pred=model.predict_proba(val_dicts)[:,1]\n",
    "decisions=(y_pred >= 0.5)\n",
    "val_df[decisions].head()"
   ]
  },
  {
   "cell_type": "code",
   "execution_count": 31,
   "id": "essential-bradford",
   "metadata": {},
   "outputs": [
    {
     "data": {
      "text/plain": [
       "0.79"
      ]
     },
     "execution_count": 31,
     "metadata": {},
     "output_type": "execute_result"
    }
   ],
   "source": [
    "original_accuracy=round((y_above_average_val == decisions).mean(),2)\n",
    "original_accuracy"
   ]
  },
  {
   "cell_type": "markdown",
   "id": "micro-shock",
   "metadata": {},
   "source": [
    "### Quest : 5"
   ]
  },
  {
   "cell_type": "markdown",
   "id": "color-gentleman",
   "metadata": {},
   "source": [
    "* read data\n",
    "* drop feature\n",
    "* split\n",
    "* train\n",
    "* accuracy\n",
    "\n"
   ]
  },
  {
   "cell_type": "code",
   "execution_count": 32,
   "id": "still-franklin",
   "metadata": {},
   "outputs": [],
   "source": [
    "def read_data():\n",
    "    df = pd.read_csv('data/airbnb3.csv')\n",
    "    return df\n",
    "\n",
    "\n",
    "def hot_coding(y):\n",
    "    return np.where((y>=152),1, 0)\n",
    "\n",
    "def encoding(X, lst):\n",
    "    df=pd.DataFrame(X, columns=lst)\n",
    "    X_dicts = df.to_dict(orient='records')\n",
    "    return DictVectorizer(sparse=False).fit_transform(X_dicts)\n",
    "\n",
    "    \n",
    "def split_data(X, y):\n",
    "    return train_test_split(X, y, test_size=0.2, random_state=42)\n",
    "\n",
    "def train(X, y):\n",
    "    model = LogisticRegression(solver='lbfgs', C=1.0, random_state=42)\n",
    "    return model.fit(X, y)\n",
    "\n",
    "def predict_accuracy(model, val, y):\n",
    "    df_pred = pd.DataFrame()\n",
    "    df_pred['probability'] = model.predict_proba(val)[:,1]\n",
    "    df_pred['prediction'] = ((model.predict_proba(val)[:,1]) >= 0.5).astype(int)\n",
    "    df_pred['actual'] = y\n",
    "    df_pred['correct'] = df_pred.prediction == df_pred.actual\n",
    "    return df_pred.correct.mean()"
   ]
  },
  {
   "cell_type": "markdown",
   "id": "pleased-parish",
   "metadata": {},
   "source": [
    "#### Drop *neighbourhood_group*"
   ]
  },
  {
   "cell_type": "code",
   "execution_count": 33,
   "id": "consistent-smell",
   "metadata": {},
   "outputs": [
    {
     "name": "stderr",
     "output_type": "stream",
     "text": [
      "/home/praveen/.local/lib/python3.8/site-packages/sklearn/linear_model/_logistic.py:762: ConvergenceWarning: lbfgs failed to converge (status=1):\n",
      "STOP: TOTAL NO. of ITERATIONS REACHED LIMIT.\n",
      "\n",
      "Increase the number of iterations (max_iter) or scale the data as shown in:\n",
      "    https://scikit-learn.org/stable/modules/preprocessing.html\n",
      "Please also refer to the documentation for alternative solver options:\n",
      "    https://scikit-learn.org/stable/modules/linear_model.html#logistic-regression\n",
      "  n_iter_i = _check_optimize_result(\n"
     ]
    },
    {
     "data": {
      "text/plain": [
       "0.03744376278118611"
      ]
     },
     "execution_count": 33,
     "metadata": {},
     "output_type": "execute_result"
    }
   ],
   "source": [
    "df_neighbourhood_group = read_data()\n",
    "\n",
    "df_neighbourhood_group = df_neighbourhood_group[['neighbourhood_group','room_type','latitude','longitude','price',\n",
    " 'minimum_nights','number_of_reviews','reviews_per_month','calculated_host_listings_count',\n",
    " 'availability_365']]\n",
    "\n",
    "df_neighbourhood_group.fillna(0,inplace=True)\n",
    "y = df_neighbourhood_group['price'].values\n",
    "y = hot_coding(y)\n",
    "X = df_neighbourhood_group\n",
    "del X['price']\n",
    "del X['neighbourhood_group']\n",
    "\n",
    "# X = encoding(X)\n",
    "\n",
    "\n",
    "X_train, X_test, y_train, y_test = split_data(X, y)\n",
    "X_train, X_val, y_train, y_val = split_data(X_train, y_train)\n",
    "\n",
    "# encoding , convert train and val back to pandas\n",
    "lst = ['room_type', 'latitude', 'longitude',\n",
    "       'minimum_nights', 'number_of_reviews', 'reviews_per_month',\n",
    "       'calculated_host_listings_count', 'availability_365']\n",
    "\n",
    "\n",
    "X_train = encoding(X_train, lst)\n",
    "X_val = encoding(X_val, lst)\n",
    "\n",
    "\n",
    "model = train(X_train, y_train)\n",
    "\n",
    "accuracy_neighbourhood_group = predict_accuracy(model, X_val, y_val)\n",
    "original_accuracy - accuracy_neighbourhood_group"
   ]
  },
  {
   "cell_type": "markdown",
   "id": "applied-liverpool",
   "metadata": {},
   "source": [
    "#### Drop *room_type*"
   ]
  },
  {
   "cell_type": "code",
   "execution_count": 34,
   "id": "greenhouse-understanding",
   "metadata": {},
   "outputs": [
    {
     "name": "stderr",
     "output_type": "stream",
     "text": [
      "/home/praveen/.local/lib/python3.8/site-packages/sklearn/linear_model/_logistic.py:762: ConvergenceWarning: lbfgs failed to converge (status=1):\n",
      "STOP: TOTAL NO. of ITERATIONS REACHED LIMIT.\n",
      "\n",
      "Increase the number of iterations (max_iter) or scale the data as shown in:\n",
      "    https://scikit-learn.org/stable/modules/preprocessing.html\n",
      "Please also refer to the documentation for alternative solver options:\n",
      "    https://scikit-learn.org/stable/modules/linear_model.html#logistic-regression\n",
      "  n_iter_i = _check_optimize_result(\n"
     ]
    },
    {
     "data": {
      "text/plain": [
       "0.07425357873210636"
      ]
     },
     "execution_count": 34,
     "metadata": {},
     "output_type": "execute_result"
    }
   ],
   "source": [
    "df_room_type = read_data()\n",
    "\n",
    "df_room_type = df_room_type[['neighbourhood_group','room_type','latitude','longitude','price',\n",
    " 'minimum_nights','number_of_reviews','reviews_per_month','calculated_host_listings_count',\n",
    " 'availability_365']]\n",
    "\n",
    "df_room_type.fillna(0,inplace=True)\n",
    "y = df_room_type['price'].values\n",
    "y = hot_coding(y)\n",
    "X = df_room_type\n",
    "del X['price']\n",
    "del X['room_type']\n",
    "\n",
    "# X = encoding(X)\n",
    "\n",
    "\n",
    "X_train, X_test, y_train, y_test = split_data(X, y)\n",
    "X_train, X_val, y_train, y_val = split_data(X_train, y_train)\n",
    "\n",
    "\n",
    "# encoding , convert train and val back to pandas\n",
    "lst = ['neighbourhood_group', 'latitude', 'longitude',\n",
    "       'minimum_nights', 'number_of_reviews', 'reviews_per_month',\n",
    "       'calculated_host_listings_count', 'availability_365']\n",
    "\n",
    "\n",
    "X_train = encoding(X_train, lst)\n",
    "X_val = encoding(X_val, lst)\n",
    "\n",
    "\n",
    "model = train(X_train, y_train)\n",
    "\n",
    "accuracy_room_type = predict_accuracy(model, X_val, y_val)\n",
    "original_accuracy - accuracy_room_type"
   ]
  },
  {
   "cell_type": "code",
   "execution_count": null,
   "id": "static-reasoning",
   "metadata": {},
   "outputs": [],
   "source": []
  },
  {
   "cell_type": "code",
   "execution_count": null,
   "id": "guided-event",
   "metadata": {},
   "outputs": [],
   "source": []
  },
  {
   "cell_type": "markdown",
   "id": "excessive-dining",
   "metadata": {},
   "source": [
    "#### Drop *number_of_reviews*"
   ]
  },
  {
   "cell_type": "code",
   "execution_count": 35,
   "id": "loaded-italy",
   "metadata": {},
   "outputs": [
    {
     "name": "stderr",
     "output_type": "stream",
     "text": [
      "/home/praveen/.local/lib/python3.8/site-packages/sklearn/linear_model/_logistic.py:762: ConvergenceWarning: lbfgs failed to converge (status=1):\n",
      "STOP: TOTAL NO. of ITERATIONS REACHED LIMIT.\n",
      "\n",
      "Increase the number of iterations (max_iter) or scale the data as shown in:\n",
      "    https://scikit-learn.org/stable/modules/preprocessing.html\n",
      "Please also refer to the documentation for alternative solver options:\n",
      "    https://scikit-learn.org/stable/modules/linear_model.html#logistic-regression\n",
      "  n_iter_i = _check_optimize_result(\n"
     ]
    },
    {
     "data": {
      "text/plain": [
       "0.00293456032719841"
      ]
     },
     "execution_count": 35,
     "metadata": {},
     "output_type": "execute_result"
    }
   ],
   "source": [
    "df_number_of_reviews = read_data()\n",
    "\n",
    "df_number_of_reviews = df_number_of_reviews[['neighbourhood_group','room_type','latitude','longitude','price',\n",
    " 'minimum_nights','number_of_reviews','reviews_per_month','calculated_host_listings_count',\n",
    " 'availability_365']]\n",
    "\n",
    "df_number_of_reviews.fillna(0,inplace=True)\n",
    "y = df_number_of_reviews['price'].values\n",
    "y = hot_coding(y)\n",
    "X = df_number_of_reviews\n",
    "del X['price']\n",
    "del X['number_of_reviews']\n",
    "\n",
    "# X = encoding(X)\n",
    "\n",
    "\n",
    "X_train, X_test, y_train, y_test = split_data(X, y)\n",
    "X_train, X_val, y_train, y_val = split_data(X_train, y_train)\n",
    "\n",
    "# encoding , convert train and val back to pandas\n",
    "lst = ['neighbourhood_group', 'room_type', 'latitude', 'longitude',\n",
    "       'minimum_nights', 'reviews_per_month',\n",
    "       'calculated_host_listings_count', 'availability_365']\n",
    "\n",
    "\n",
    "X_train = encoding(X_train, lst)\n",
    "X_val = encoding(X_val, lst)\n",
    "\n",
    "\n",
    "model = train(X_train, y_train)\n",
    "\n",
    "accuracy_neighbourhood_group = predict_accuracy(model, X_val, y_val)\n",
    "original_accuracy - accuracy_neighbourhood_group"
   ]
  },
  {
   "cell_type": "code",
   "execution_count": null,
   "id": "mineral-prior",
   "metadata": {},
   "outputs": [],
   "source": []
  },
  {
   "cell_type": "markdown",
   "id": "accompanied-kitty",
   "metadata": {},
   "source": [
    "#### Drop *reviews_per_month*"
   ]
  },
  {
   "cell_type": "code",
   "execution_count": 36,
   "id": "approved-oxygen",
   "metadata": {},
   "outputs": [
    {
     "name": "stderr",
     "output_type": "stream",
     "text": [
      "/home/praveen/.local/lib/python3.8/site-packages/sklearn/linear_model/_logistic.py:762: ConvergenceWarning: lbfgs failed to converge (status=1):\n",
      "STOP: TOTAL NO. of ITERATIONS REACHED LIMIT.\n",
      "\n",
      "Increase the number of iterations (max_iter) or scale the data as shown in:\n",
      "    https://scikit-learn.org/stable/modules/preprocessing.html\n",
      "Please also refer to the documentation for alternative solver options:\n",
      "    https://scikit-learn.org/stable/modules/linear_model.html#logistic-regression\n",
      "  n_iter_i = _check_optimize_result(\n"
     ]
    },
    {
     "data": {
      "text/plain": [
       "0.004340490797546059"
      ]
     },
     "execution_count": 36,
     "metadata": {},
     "output_type": "execute_result"
    }
   ],
   "source": [
    "df_reviews_per_month = read_data()\n",
    "\n",
    "df_reviews_per_month = df_reviews_per_month[['neighbourhood_group','room_type','latitude','longitude','price',\n",
    " 'minimum_nights','number_of_reviews','reviews_per_month','calculated_host_listings_count',\n",
    " 'availability_365']]\n",
    "\n",
    "df_reviews_per_month.fillna(0,inplace=True)\n",
    "y = df_reviews_per_month['price'].values\n",
    "y = hot_coding(y)\n",
    "X = df_reviews_per_month\n",
    "del X['price']\n",
    "del X['reviews_per_month']\n",
    "\n",
    "# X = encoding(X)\n",
    "\n",
    "\n",
    "X_train, X_test, y_train, y_test = split_data(X, y)\n",
    "X_train, X_val, y_train, y_val = split_data(X_train, y_train)\n",
    "\n",
    "# encoding , convert train and val back to pandas\n",
    "lst = ['neighbourhood_group', 'room_type', 'latitude', 'longitude',\n",
    "       'minimum_nights', 'number_of_reviews',\n",
    "       'calculated_host_listings_count', 'availability_365']\n",
    "\n",
    "\n",
    "X_train = encoding(X_train, lst)\n",
    "X_val = encoding(X_val, lst)\n",
    "\n",
    "\n",
    "model = train(X_train, y_train)\n",
    "\n",
    "accuracy_neighbourhood_group = predict_accuracy(model, X_val, y_val)\n",
    "original_accuracy - accuracy_neighbourhood_group"
   ]
  },
  {
   "cell_type": "markdown",
   "id": "fatal-camel",
   "metadata": {},
   "source": [
    "\n",
    "### Linear regression"
   ]
  },
  {
   "cell_type": "code",
   "execution_count": 37,
   "id": "yellow-words",
   "metadata": {},
   "outputs": [],
   "source": [
    "def divData(df, seed):\n",
    "    n = len(df)\n",
    "    n_val = int(n*0.2)\n",
    "    n_test = int(n*0.2)\n",
    "    n_train = n-n_val-n_test\n",
    "    idx = np.arange(n)\n",
    "    np.random.seed(seed)\n",
    "    np.random.shuffle(idx)\n",
    "    df_train = df.iloc[idx[:n_train]]\n",
    "    df_val = df.iloc[idx[n_train:n_train+n_val]]\n",
    "    df_test = df.iloc[idx[n_train+n_val:]]\n",
    "    df_train = df_train.reset_index(drop=True)\n",
    "    df_val = df_val.reset_index(drop=True)\n",
    "    df_test = df_test.reset_index(drop=True)\n",
    "    y_train = np.log1p(df_train['price']).values\n",
    "    y_val = np.log1p(df_val['price']).values\n",
    "    y_test = np.log1p(df_test['price']).values\n",
    "    del df_train['price']\n",
    "    del df_val['price']\n",
    "    del df_test['price']\n",
    "    \n",
    "    return df_train, df_val, df_test, y_train, y_val, y_test"
   ]
  },
  {
   "cell_type": "code",
   "execution_count": 38,
   "id": "understood-floating",
   "metadata": {},
   "outputs": [],
   "source": [
    "def rmse(y, y_pred):\n",
    "    error = y - y_pred\n",
    "    se = error ** 2\n",
    "    mse = se.mean()\n",
    "    return np.sqrt(mse)"
   ]
  },
  {
   "cell_type": "code",
   "execution_count": 39,
   "id": "pharmaceutical-value",
   "metadata": {},
   "outputs": [],
   "source": [
    "alphas = [0, 0.01, 0.1, 1, 10]"
   ]
  },
  {
   "cell_type": "code",
   "execution_count": 40,
   "id": "searching-springer",
   "metadata": {},
   "outputs": [
    {
     "name": "stdout",
     "output_type": "stream",
     "text": [
      "Alpha: 0, RMSE: 0.491\n",
      "\n",
      "Alpha: 0.01, RMSE: 0.491\n",
      "\n",
      "Alpha: 0.1, RMSE: 0.491\n",
      "\n",
      "Alpha: 1, RMSE: 0.491\n",
      "\n",
      "Alpha: 10, RMSE: 0.492\n",
      "\n"
     ]
    }
   ],
   "source": [
    "for alpha in alphas:\n",
    "    df = read_data()\n",
    "    df = df[['neighbourhood_group','room_type','latitude','longitude','price',\n",
    "     'minimum_nights','number_of_reviews','reviews_per_month','calculated_host_listings_count',\n",
    "     'availability_365']]\n",
    "\n",
    "    df = df.fillna(0)\n",
    "    df_train, df_val, df_test, y_train, y_val, y_test = divData(df, 42)\n",
    "\n",
    "    # encoding , convert train and val back to pandas\n",
    "    lst = ['neighbourhood_group','room_type','latitude','longitude','price',\n",
    "     'minimum_nights','number_of_reviews','reviews_per_month','calculated_host_listings_count',\n",
    "     'availability_365']\n",
    "\n",
    "\n",
    "    X_train = encoding(df_train, lst)\n",
    "    X_val = encoding(df_val, lst)\n",
    "    \n",
    "    \n",
    "    X_train = np.nan_to_num(X_train, 0)\n",
    "    X_val = np.nan_to_num(X_val, 0)\n",
    "\n",
    "    model = Ridge(alpha=alpha)\n",
    "    \n",
    "    model.fit(X_train, y_train)\n",
    "    prediction = model.predict(X_val)\n",
    "    \n",
    "    \n",
    "    print(f'Alpha: {alpha}, RMSE: {round(rmse(prediction, y_val),3)}')\n",
    "    \n",
    "    print('')"
   ]
  },
  {
   "cell_type": "code",
   "execution_count": null,
   "id": "reverse-palestinian",
   "metadata": {},
   "outputs": [],
   "source": []
  },
  {
   "cell_type": "code",
   "execution_count": null,
   "id": "missing-rally",
   "metadata": {},
   "outputs": [],
   "source": []
  }
 ],
 "metadata": {
  "hide_input": false,
  "kernelspec": {
   "display_name": "Python 3",
   "language": "python",
   "name": "python3"
  },
  "language_info": {
   "codemirror_mode": {
    "name": "ipython",
    "version": 3
   },
   "file_extension": ".py",
   "mimetype": "text/x-python",
   "name": "python",
   "nbconvert_exporter": "python",
   "pygments_lexer": "ipython3",
   "version": "3.8.10"
  }
 },
 "nbformat": 4,
 "nbformat_minor": 5
}
